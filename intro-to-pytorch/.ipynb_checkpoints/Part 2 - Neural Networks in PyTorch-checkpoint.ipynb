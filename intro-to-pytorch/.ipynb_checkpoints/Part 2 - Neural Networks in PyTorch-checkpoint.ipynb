{
 "cells": [
  {
   "cell_type": "markdown",
   "metadata": {},
   "source": [
    "# Neural networks with PyTorch\n",
    "\n",
    "Deep learning networks tend to be massive with dozens or hundreds of layers, that's where the term \"deep\" comes from. You can build one of these deep networks using only weight matrices as we did in the previous notebook, but in general it's very cumbersome and difficult to implement. PyTorch has a nice module `nn` that provides a nice way to efficiently build large neural networks."
   ]
  },
  {
   "cell_type": "code",
   "execution_count": 2,
   "metadata": {},
   "outputs": [],
   "source": [
    "# Import necessary packages\n",
    "\n",
    "%matplotlib inline\n",
    "%config InlineBackend.figure_format = 'retina'\n",
    "\n",
    "import numpy as np\n",
    "import torch\n",
    "\n",
    "import helper\n",
    "\n",
    "import matplotlib.pyplot as plt"
   ]
  },
  {
   "cell_type": "markdown",
   "metadata": {},
   "source": [
    "\n",
    "Now we're going to build a larger network that can solve a (formerly) difficult problem, identifying text in an image. Here we'll use the MNIST dataset which consists of greyscale handwritten digits. Each image is 28x28 pixels, you can see a sample below\n",
    "\n",
    "<img src='assets/mnist.png'>\n",
    "\n",
    "Our goal is to build a neural network that can take one of these images and predict the digit in the image.\n",
    "\n",
    "First up, we need to get our dataset. This is provided through the `torchvision` package. The code below will download the MNIST dataset, then create training and test datasets for us. Don't worry too much about the details here, you'll learn more about this later."
   ]
  },
  {
   "cell_type": "code",
   "execution_count": 3,
   "metadata": {},
   "outputs": [
    {
     "name": "stdout",
     "output_type": "stream",
     "text": [
      "Downloading http://yann.lecun.com/exdb/mnist/train-images-idx3-ubyte.gz\n",
      "Downloading http://yann.lecun.com/exdb/mnist/train-labels-idx1-ubyte.gz\n",
      "Downloading http://yann.lecun.com/exdb/mnist/t10k-images-idx3-ubyte.gz\n",
      "Downloading http://yann.lecun.com/exdb/mnist/t10k-labels-idx1-ubyte.gz\n",
      "Processing...\n",
      "Done!\n"
     ]
    }
   ],
   "source": [
    "### Run this cell\n",
    "\n",
    "from torchvision import datasets, transforms\n",
    "\n",
    "# Define a transform to normalize the data\n",
    "transform = transforms.Compose([transforms.ToTensor(),\n",
    "                              transforms.Normalize((0.5,), (0.5,)),\n",
    "                              ])\n",
    "\n",
    "# Download and load the training data\n",
    "trainset = datasets.MNIST('~/.pytorch/MNIST_data/', download=True, train=True, transform=transform)\n",
    "trainloader = torch.utils.data.DataLoader(trainset, batch_size=64, shuffle=True)"
   ]
  },
  {
   "cell_type": "markdown",
   "metadata": {},
   "source": [
    "We have the training data loaded into `trainloader` and we make that an iterator with `iter(trainloader)`. Later, we'll use this to loop through the dataset for training, like\n",
    "\n",
    "```python\n",
    "for image, label in trainloader:\n",
    "    ## do things with images and labels\n",
    "```\n",
    "\n",
    "You'll notice I created the `trainloader` with a batch size of 64, and `shuffle=True`. The batch size is the number of images we get in one iteration from the data loader and pass through our network, often called a *batch*. And `shuffle=True` tells it to shuffle the dataset every time we start going through the data loader again. But here I'm just grabbing the first batch so we can check out the data. We can see below that `images` is just a tensor with size `(64, 1, 28, 28)`. So, 64 images per batch, 1 color channel, and 28x28 images."
   ]
  },
  {
   "cell_type": "code",
   "execution_count": 4,
   "metadata": {},
   "outputs": [
    {
     "name": "stdout",
     "output_type": "stream",
     "text": [
      "<class 'torch.Tensor'>\n",
      "torch.Size([64, 1, 28, 28])\n",
      "torch.Size([64])\n"
     ]
    }
   ],
   "source": [
    "dataiter = iter(trainloader)\n",
    "images, labels = dataiter.next()\n",
    "print(type(images))\n",
    "print(images.shape)\n",
    "print(labels.shape)"
   ]
  },
  {
   "cell_type": "markdown",
   "metadata": {},
   "source": [
    "This is what one of the images looks like. "
   ]
  },
  {
   "cell_type": "code",
   "execution_count": 5,
   "metadata": {},
   "outputs": [
    {
     "data": {
      "image/png": "[encoded data removed]",
      "text/plain": [
       "<Figure size 432x288 with 1 Axes>"
      ]
     },
     "metadata": {
      "image/png": {
       "height": 250,
       "width": 253
      },
      "needs_background": "light"
     },
     "output_type": "display_data"
    }
   ],
   "source": [
    "plt.imshow(images[1].numpy().squeeze(), cmap='Greys_r');"
   ]
  },
  {
   "cell_type": "markdown",
   "metadata": {},
   "source": [
    "First, let's try to build a simple network for this dataset using weight matrices and matrix multiplications. Then, we'll see how to do it using PyTorch's `nn` module which provides a much more convenient and powerful method for defining network architectures.\n",
    "\n",
    "The networks you've seen so far are called *fully-connected* or *dense* networks. Each unit in one layer is connected to each unit in the next layer. In fully-connected networks, the input to each layer must be a one-dimensional vector (which can be stacked into a 2D tensor as a batch of multiple examples). However, our images are 28x28 2D tensors, so we need to convert them into 1D vectors. Thinking about sizes, we need to convert the batch of images with shape `(64, 1, 28, 28)` to a have a shape of `(64, 784)`, 784 is 28 times 28. This is typically called *flattening*, we flattened the 2D images into 1D vectors.\n",
    "\n",
    "Previously you built a network with one output unit. Here we need 10 output units, one for each digit. We want our network to predict the digit shown in an image, so what we'll do is calculate probabilities that the image is of any one digit or class. This ends up being a discrete probability distribution over the classes (digits) that tells us the most likely class for the image. That means we need 10 output units for the 10 classes (digits). We'll see how to convert the network output into a probability distribution next.\n",
    "\n",
    "> **Exercise:** Flatten the batch of images `images`. Then build a multi-layer network with 784 input units, 256 hidden units, and 10 output units using random tensors for the weights and biases. For now, use a sigmoid activation for the hidden layer. Leave the output layer without an activation, we'll add one that gives us a probability distribution next."
   ]
  },
  {
   "cell_type": "code",
   "execution_count": 7,
   "metadata": {},
   "outputs": [],
   "source": [
    "def activation(x):\n",
    "    \"\"\" Sigmoid activation function \n",
    "    \n",
    "        Arguments\n",
    "        ---------\n",
    "        x: torch.Tensor\n",
    "    \"\"\"\n",
    "    return 1/(1+torch.exp(-x))"
   ]
  },
  {
   "cell_type": "code",
   "execution_count": 11,
   "metadata": {},
   "outputs": [
    {
     "name": "stdout",
     "output_type": "stream",
     "text": [
      "torch.Size([64, 10])\n",
      "tensor([[-7.0360e+00,  1.1049e+01,  1.7313e-02, -1.3603e+01,  1.0174e+01,\n",
      "          6.1737e+00,  2.6796e+00,  2.1946e+00, -8.4904e+00, -5.5982e+00],\n",
      "        [-6.0852e+00,  7.9812e+00, -3.8883e+00, -2.0155e+01,  3.1356e+00,\n",
      "          2.1016e+00, -3.3765e+00, -9.6846e+00,  3.2182e-01,  1.4315e+01],\n",
      "        [-2.7393e+00,  8.6512e+00, -6.8314e+00, -1.3609e+01, -1.0388e+01,\n",
      "          1.0399e+01, -8.2125e+00, -2.8541e+00,  1.0593e+00,  7.5782e+00],\n",
      "        [-8.9454e+00, -2.4726e+00, -1.2267e+01, -1.8754e+01, -1.3871e+01,\n",
      "         -4.2523e+00,  2.9053e+00,  1.9261e+00, -8.5281e+00,  8.0100e+00],\n",
      "        [-6.3150e+00, -1.9440e-01, -3.3280e+00, -2.0046e+01, -1.1239e+01,\n",
      "          6.1470e+00, -4.8608e-01, -6.9923e+00, -1.0302e+00,  1.1425e+01],\n",
      "        [-2.2025e+00,  8.6234e+00,  6.6471e+00, -7.5609e+00, -5.2353e+00,\n",
      "          1.5201e+00,  3.9988e+00, -1.1398e+01, -4.6441e+00,  1.6465e+01],\n",
      "        [-8.3850e+00, -4.4987e+00, -1.1649e+01, -1.9746e+01, -9.4798e-01,\n",
      "          1.1908e+01,  8.8089e-01, -1.2294e+01, -3.8582e+00, -6.5328e+00],\n",
      "        [-1.6496e+01,  4.8380e+00, -3.6344e+00, -1.9785e+01, -1.0825e+01,\n",
      "          5.3069e+00,  5.0861e+00, -2.7628e+00, -6.4663e+00,  5.8839e-01],\n",
      "        [-1.4783e+01,  1.0152e+01, -2.0245e+00, -1.5124e+01, -1.1001e+01,\n",
      "          1.4070e+00, -4.1945e+00, -5.4305e+00,  3.8195e+00, -2.2159e+00],\n",
      "        [-1.1525e+01, -1.6959e+00, -1.1739e+01, -1.7850e+01, -9.7004e+00,\n",
      "          3.7084e+00,  3.7210e+00, -1.0813e+01, -6.0941e+00, -5.6916e+00],\n",
      "        [-9.8616e+00,  1.1553e+01, -1.2813e+01, -1.2784e+01, -2.1281e+00,\n",
      "          4.8702e+00,  2.3226e+00, -1.1384e+01, -9.8392e+00,  2.4224e+00],\n",
      "        [-7.9914e-01,  1.6793e+01, -4.1957e+00, -2.8474e+01, -7.3368e+00,\n",
      "          1.0731e+01, -3.6706e+00,  2.3052e+00, -1.5056e+01,  5.9629e+00],\n",
      "        [-1.4411e+01,  2.8336e+00, -9.0651e+00, -8.2899e+00, -1.3770e+01,\n",
      "          7.7480e+00, -5.7580e+00, -1.4410e+01,  5.3451e+00,  4.9841e-01],\n",
      "        [-8.3145e+00,  9.5309e+00, -8.8439e+00, -1.8623e+01, -2.4901e+00,\n",
      "          7.4999e+00, -7.0460e+00, -9.4410e+00, -8.8449e+00,  3.2289e+00],\n",
      "        [-6.6177e+00,  1.3927e+01, -2.6006e+00, -2.1491e+01,  4.6997e+00,\n",
      "          1.5573e+01, -2.5760e+00, -2.7494e+00, -8.4089e+00,  1.1840e+01],\n",
      "        [-6.7859e+00,  7.5817e+00, -1.1330e+01, -1.8365e+01, -7.0677e+00,\n",
      "         -2.7241e+00,  4.1539e+00, -5.8566e+00, -7.0562e+00,  1.4215e+01],\n",
      "        [-6.8949e+00,  3.5044e+00, -2.1461e+00, -2.6644e+01, -1.1115e+01,\n",
      "         -1.9877e+00,  3.1773e+00, -4.4835e+00, -4.8939e+00,  3.0778e+00],\n",
      "        [-1.0393e+01,  8.9828e+00, -3.7986e+00, -2.0539e+01, -1.3434e+00,\n",
      "         -1.6200e+00,  1.2915e+00, -7.4981e+00, -1.0602e+01,  1.3595e+01],\n",
      "        [-1.1378e+01,  8.3592e+00, -1.8259e+01, -1.5235e+01, -1.1830e+01,\n",
      "          1.3276e+00,  1.8597e+00, -1.7728e+00,  3.5325e-01,  6.3226e+00],\n",
      "        [-1.1351e+01,  1.1865e+01, -3.8589e+00, -2.0384e+01, -8.3567e+00,\n",
      "          8.8408e+00, -5.7551e-01, -1.0799e-02, -7.1780e+00,  4.4956e+00],\n",
      "        [-6.0268e+00,  3.3346e-01, -1.0449e+01, -1.5564e+01, -4.6244e+00,\n",
      "          5.6199e+00,  5.5405e+00, -9.6220e+00, -1.6732e+00,  1.8306e+00],\n",
      "        [-7.8817e+00,  5.8279e+00, -1.4918e+01, -1.2632e+01, -2.5742e-01,\n",
      "         -3.1802e+00,  6.6953e+00, -8.2731e+00, -4.0479e+00,  7.4660e+00],\n",
      "        [-4.8028e+00,  3.3065e+00,  1.0103e+00, -2.2169e+01, -1.3887e+01,\n",
      "          7.0467e-02,  5.1322e+00, -8.9559e+00, -1.1635e+01,  1.6870e+01],\n",
      "        [-8.4945e+00,  8.7072e+00,  3.0531e-01, -1.7474e+01, -1.2839e+00,\n",
      "          1.0189e+01,  1.4995e+00, -1.1307e+01, -6.9839e+00,  6.9785e+00],\n",
      "        [-8.8864e+00,  4.3784e+00, -8.3569e+00, -1.4938e+01, -1.0828e+01,\n",
      "         -3.5306e+00,  1.5289e+00, -1.5203e+01, -6.5360e+00,  9.7079e+00],\n",
      "        [-7.7672e-01,  1.8468e+01, -1.1480e+01, -1.3804e+01, -1.4291e+00,\n",
      "          1.4135e+01, -2.4335e+00, -1.4466e+01, -6.1979e+00,  7.7616e+00],\n",
      "        [-6.8053e+00,  1.0475e+01, -2.9608e+00, -1.4053e+01, -1.3709e+01,\n",
      "          7.5818e+00,  6.6067e+00, -6.3948e+00, -1.2164e+00, -8.5590e-01],\n",
      "        [-5.8837e+00,  6.0950e+00, -3.5551e+00, -5.4846e+00, -9.6289e+00,\n",
      "          6.0801e+00, -2.6689e+00, -1.1709e+01, -4.0131e+00,  4.4267e+00],\n",
      "        [-1.9182e+01,  3.5659e-01, -1.1685e+01, -2.2325e+01, -8.8230e+00,\n",
      "         -3.2493e+00,  2.7059e+00, -1.9058e+01,  1.7212e+00, -4.2230e+00],\n",
      "        [-9.3210e+00,  5.9953e+00, -1.2275e+00, -2.3265e+01, -5.2858e+00,\n",
      "         -1.2527e+00,  5.4262e+00, -1.9986e+00, -1.6319e+00,  1.0889e+01],\n",
      "        [-9.1099e+00,  2.0809e+00, -7.9431e+00, -1.7258e+01, -1.9680e+01,\n",
      "         -1.7204e+00,  3.5081e+00, -9.5745e+00, -4.3883e-01,  5.7400e+00],\n",
      "        [-5.2837e+00,  1.5617e+01, -6.9317e+00, -1.6639e+01, -4.3709e+00,\n",
      "          7.8864e+00, -5.5942e-01, -7.1229e+00, -1.2914e+01,  7.7079e+00],\n",
      "        [-2.0574e+00, -8.8602e-01, -7.2013e+00, -8.3506e+00, -5.4317e+00,\n",
      "          5.3374e+00, -5.3740e-01, -1.8212e+01, -2.2043e+00, -5.9697e-01],\n",
      "        [-2.4786e+00,  5.3779e+00, -5.7942e+00, -1.4130e+01, -1.0951e+01,\n",
      "          4.0992e+00,  5.7055e+00, -4.8973e-01, -5.9060e+00,  3.4504e+00],\n",
      "        [-4.6302e+00,  9.3607e+00, -5.9829e+00, -2.0871e+01, -1.1740e+01,\n",
      "          7.5126e+00,  8.1728e-02, -5.7654e+00, -9.3892e+00,  1.3757e+00],\n",
      "        [-1.9494e+01,  2.0483e+00, -2.0495e+00, -2.1084e+01, -8.8852e+00,\n",
      "         -8.2656e-01,  1.4670e+00, -1.2384e+01, -2.8575e+00,  1.1547e+01],\n",
      "        [-1.0677e+01,  3.5568e+00, -6.8154e+00, -2.7782e+01, -1.0998e+01,\n",
      "          3.3083e+00, -3.9558e+00, -4.1001e+00, -4.0712e+00,  2.3947e+00],\n",
      "        [-8.6208e+00,  1.1961e+01, -9.6732e+00, -1.6614e+01, -9.5872e+00,\n",
      "          9.2871e+00, -7.7577e+00, -7.8763e+00, -5.5207e+00,  1.4291e+01],\n",
      "        [-1.9623e+01,  7.2678e+00, -1.4510e+01, -1.3166e+01, -5.3954e+00,\n",
      "         -2.2265e+00, -1.3139e+00, -1.2795e+01, -1.0544e+01,  9.5083e+00],\n",
      "        [-8.6092e+00,  6.6432e+00, -1.0626e+01, -1.3638e+01, -1.3007e+01,\n",
      "          1.8232e+00,  7.9406e+00, -1.0791e+01, -9.0824e+00,  3.4171e-01],\n",
      "        [-1.2586e+01,  5.9596e+00, -2.3875e+01, -1.8366e+01, -3.2690e+00,\n",
      "          1.8440e-01,  6.3945e+00, -1.8007e+01,  5.6894e+00,  7.3909e+00],\n",
      "        [-9.5661e+00,  1.6157e+00, -6.6394e+00, -2.3152e+01, -1.2456e+01,\n",
      "          1.7511e+00, -3.4588e+00, -5.4938e+00, -2.1681e+00, -9.2104e-02],\n",
      "        [-1.5135e+01, -6.4722e-01, -1.1836e+01, -1.6816e+01,  1.4436e+00,\n",
      "         -1.4555e+00,  1.2688e+01, -2.7284e+00, -4.7694e-01,  1.5143e+01],\n",
      "        [-1.3017e+01,  7.2865e+00, -1.2878e+01, -1.4254e+01, -6.1342e+00,\n",
      "          4.5469e+00,  2.5637e+00, -1.4981e+01, -5.0357e+00, -2.0732e+00],\n",
      "        [-1.9497e+00,  6.0301e+00, -7.3813e+00, -1.4867e+01,  1.1059e+00,\n",
      "          1.4272e+01, -1.2932e+00, -1.4034e+01, -4.1685e+00,  1.3064e+01],\n",
      "        [-6.7552e+00,  1.0469e+01, -5.6836e+00, -1.9062e+01, -1.0955e+01,\n",
      "          1.3845e+01, -5.0104e+00, -9.3437e+00, -9.1195e+00,  2.6067e+00],\n",
      "        [-1.3048e+01,  1.1525e+00, -1.4124e+01, -1.6249e+01, -5.8639e+00,\n",
      "         -4.0511e+00, -1.8052e+00, -1.2532e+01, -2.1495e+00,  7.5337e+00],\n",
      "        [-5.8377e+00,  9.6895e+00,  2.0680e+00, -1.4448e+01, -5.7258e+00,\n",
      "          5.2928e+00, -3.2325e+00, -1.1910e+01, -6.6675e+00,  1.2412e+01],\n",
      "        [-5.0106e+00,  3.8976e+00, -7.6062e+00, -1.8039e+01, -4.1214e+00,\n",
      "          2.5879e+00,  5.1905e+00, -1.1331e+01, -1.4081e+00, -4.1033e-01],\n",
      "        [-4.8279e+00, -2.6431e+00, -7.2900e+00, -2.4164e+01, -1.0022e+01,\n",
      "          5.0175e+00, -8.7523e-01, -5.4012e+00,  3.7422e-01, -1.2229e+00],\n",
      "        [-8.5858e+00,  1.0875e+01, -6.5714e+00, -1.9965e+01,  7.4100e+00,\n",
      "          1.3819e+01, -5.8678e+00, -1.4831e+01, -5.7589e+00,  4.8104e+00],\n",
      "        [-1.5365e+01,  3.4508e+00, -2.8972e+00, -1.1591e+01, -7.6670e+00,\n",
      "         -9.9979e-01, -3.2910e+00, -1.5678e+01,  3.0005e+00,  2.0876e+00],\n",
      "        [-6.6815e+00,  1.6392e+01, -1.3922e+01, -1.9152e+01, -7.4423e+00,\n",
      "          6.9480e+00, -5.2885e+00, -6.3555e+00, -6.1835e+00,  5.9687e+00],\n",
      "        [-1.4952e+01,  1.2463e+01,  1.3915e+00, -1.8404e+01, -4.2437e+00,\n",
      "          7.7044e+00,  1.0275e+00, -6.5050e+00, -1.2796e+01,  7.5373e+00],\n",
      "        [-6.4696e+00, -1.0059e+00, -7.9060e+00,  1.1325e+00, -6.9747e+00,\n",
      "          1.7582e+01, -1.2046e+01, -3.6219e+00,  5.2189e+00,  1.0113e+00],\n",
      "        [-1.0668e+01,  9.8332e+00, -1.6264e+01, -2.1676e+01, -4.4948e+00,\n",
      "          5.3519e+00,  1.6331e+00, -9.6141e+00, -6.7049e+00,  1.1446e+01],\n",
      "        [-8.1311e+00,  2.1592e+00, -1.6575e+01, -2.0262e+01, -4.2384e+00,\n",
      "          1.1961e-01,  4.3113e+00, -4.9478e+00, -1.5745e+00,  1.3612e+01],\n",
      "        [-4.7957e+00,  1.1068e+00, -1.5634e+00, -1.2681e+01, -1.2476e+01,\n",
      "          2.0186e+00, -8.9603e-01, -1.6404e+01, -8.3979e+00,  8.5473e+00],\n",
      "        [-6.2412e+00,  9.5944e+00, -1.0598e+01, -1.7098e+01,  3.4988e+00,\n",
      "          8.8477e+00,  1.9295e+00, -7.5012e+00, -8.0471e+00,  8.8653e+00],\n",
      "        [-1.2055e+01,  1.0820e+01, -1.1120e+01, -2.1506e+01, -2.5391e-01,\n",
      "          2.8121e+00,  1.6296e+00, -4.5955e+00, -6.7050e+00,  7.8130e+00],\n",
      "        [-1.6435e+01,  5.0200e+00, -1.3290e+01, -1.4419e+01, -6.6229e+00,\n",
      "         -4.0658e+00,  1.6808e+00, -3.8774e+00, -2.4446e+00,  1.5411e+00],\n",
      "        [-8.2738e+00,  7.7625e+00, -2.3575e+00, -2.0478e+01, -2.8779e+00,\n",
      "         -9.1378e-01,  4.1576e+00, -8.9835e+00, -3.0283e+00,  4.2423e+00],\n",
      "        [-6.1583e+00,  1.4308e+01, -9.0605e+00, -1.9005e+01, -3.0964e+00,\n",
      "          9.6404e+00, -5.1711e+00, -6.7503e+00, -1.0548e+01,  5.8781e+00],\n",
      "        [-1.6191e+01, -1.8006e-02, -2.3819e+00, -1.7320e+01, -6.9891e+00,\n",
      "          1.1054e+01, -1.3887e+00, -5.3510e+00, -7.4134e-01,  6.6228e+00]])\n"
     ]
    }
   ],
   "source": [
    "## Your solution\n",
    "### Generate some data\n",
    "torch.manual_seed(7) # Set the random seed so things are predictable\n",
    "\n",
    "dataiter = iter(trainloader)\n",
    "images, labels = dataiter.next()\n",
    "\n",
    "# Features are 3 random normal variables\n",
    "features = images.view((64, 784))\n",
    "#features = images.view((64, -1))\n",
    "\n",
    "# Define the size of each layer in our network\n",
    "n_input = features.shape[1]     # Number of input units, must match number of input features\n",
    "n_hidden = 256                   # Number of hidden units \n",
    "n_output = 10                    # Number of output units\n",
    "\n",
    "# Weights for inputs to hidden layer\n",
    "W1 = torch.randn(n_input, n_hidden)\n",
    "# Weights for hidden layer to output layer\n",
    "W2 = torch.randn(n_hidden, n_output)\n",
    "\n",
    "# and bias terms for hidden and output layers\n",
    "B1 = torch.randn((1, n_hidden))\n",
    "B2 = torch.randn((1, n_output))\n",
    "\n",
    "hidden_out = activation(torch.mm(features, W1) + B1)\n",
    "out        = torch.mm(hidden_out, W2) + B2 # output of your network, should have shape (64,10)\n",
    "print(out.shape)\n",
    "print(out)"
   ]
  },
  {
   "cell_type": "markdown",
   "metadata": {},
   "source": [
    "Now we have 10 outputs for our network. We want to pass in an image to our network and get out a probability distribution over the classes that tells us the likely class(es) the image belongs to. Something that looks like this:\n",
    "<img src='assets/image_distribution.png' width=500px>\n",
    "\n",
    "Here we see that the probability for each class is roughly the same. This is representing an untrained network, it hasn't seen any data yet so it just returns a uniform distribution with equal probabilities for each class.\n",
    "\n",
    "To calculate this probability distribution, we often use the [**softmax** function](https://en.wikipedia.org/wiki/Softmax_function). Mathematically this looks like\n",
    "\n",
    "$$\n",
    "\\Large \\sigma(x_i) = \\cfrac{e^{x_i}}{\\sum_k^K{e^{x_k}}}\n",
    "$$\n",
    "\n",
    "What this does is squish each input $x_i$ between 0 and 1 and normalizes the values to give you a proper probability distribution where the probabilites sum up to one.\n",
    "\n",
    "> **Exercise:** Implement a function `softmax` that performs the softmax calculation and returns probability distributions for each example in the batch. Note that you'll need to pay attention to the shapes when doing this. If you have a tensor `a` with shape `(64, 10)` and a tensor `b` with shape `(64,)`, doing `a/b` will give you an error because PyTorch will try to do the division across the columns (called broadcasting) but you'll get a size mismatch. The way to think about this is for each of the 64 examples, you only want to divide by one value, the sum in the denominator. So you need `b` to have a shape of `(64, 1)`. This way PyTorch will divide the 10 values in each row of `a` by the one value in each row of `b`. Pay attention to how you take the sum as well. You'll need to define the `dim` keyword in `torch.sum`. Setting `dim=0` takes the sum across the rows while `dim=1` takes the sum across the columns."
   ]
  },
  {
   "cell_type": "code",
   "execution_count": 17,
   "metadata": {},
   "outputs": [
    {
     "name": "stdout",
     "output_type": "stream",
     "text": [
      "torch.Size([64, 10])\n",
      "tensor([1.0000, 1.0000, 1.0000, 1.0000, 1.0000, 1.0000, 1.0000, 1.0000, 1.0000,\n",
      "        1.0000, 1.0000, 1.0000, 1.0000, 1.0000, 1.0000, 1.0000, 1.0000, 1.0000,\n",
      "        1.0000, 1.0000, 1.0000, 1.0000, 1.0000, 1.0000, 1.0000, 1.0000, 1.0000,\n",
      "        1.0000, 1.0000, 1.0000, 1.0000, 1.0000, 1.0000, 1.0000, 1.0000, 1.0000,\n",
      "        1.0000, 1.0000, 1.0000, 1.0000, 1.0000, 1.0000, 1.0000, 1.0000, 1.0000,\n",
      "        1.0000, 1.0000, 1.0000, 1.0000, 1.0000, 1.0000, 1.0000, 1.0000, 1.0000,\n",
      "        1.0000, 1.0000, 1.0000, 1.0000, 1.0000, 1.0000, 1.0000, 1.0000, 1.0000,\n",
      "        1.0000])\n"
     ]
    }
   ],
   "source": [
    "def softmax(x):\n",
    "    ## TODO: Implement the softmax function here\n",
    "    scores_exp = torch.exp(x)\n",
    "    scores_exp_sum = torch.sum(scores_exp,1).view((64,1))\n",
    "    softmax_values = scores_exp/scores_exp_sum\n",
    "    return softmax_values\n",
    "\n",
    "# Here, out should be the output of the network in the previous excercise with shape (64,10)\n",
    "probabilities = softmax(out)\n",
    "\n",
    "# Does it have the right shape? Should be (64, 10)\n",
    "print(probabilities.shape)\n",
    "# Does it sum to 1?\n",
    "print(probabilities.sum(dim=1))"
   ]
  },
  {
   "cell_type": "markdown",
   "metadata": {},
   "source": [
    "## Building networks with PyTorch\n",
    "\n",
    "PyTorch provides a module `nn` that makes building networks much simpler. Here I'll show you how to build the same one as above with 784 inputs, 256 hidden units, 10 output units and a softmax output."
   ]
  },
  {
   "cell_type": "code",
   "execution_count": 18,
   "metadata": {},
   "outputs": [],
   "source": [
    "from torch import nn"
   ]
  },
  {
   "cell_type": "code",
   "execution_count": 19,
   "metadata": {},
   "outputs": [],
   "source": [
    "class Network(nn.Module):\n",
    "    def __init__(self):\n",
    "        super().__init__()\n",
    "        \n",
    "        # Inputs to hidden layer linear transformation\n",
    "        self.hidden = nn.Linear(784, 256)\n",
    "        # Output layer, 10 units - one for each digit\n",
    "        self.output = nn.Linear(256, 10)\n",
    "        \n",
    "        # Define sigmoid activation and softmax output \n",
    "        self.sigmoid = nn.Sigmoid()\n",
    "        self.softmax = nn.Softmax(dim=1)\n",
    "        \n",
    "    def forward(self, x):\n",
    "        # Pass the input tensor through each of our operations\n",
    "        x = self.hidden(x)\n",
    "        x = self.sigmoid(x)\n",
    "        x = self.output(x)\n",
    "        x = self.softmax(x)\n",
    "        \n",
    "        return x"
   ]
  },
  {
   "cell_type": "markdown",
   "metadata": {},
   "source": [
    "Let's go through this bit by bit.\n",
    "\n",
    "```python\n",
    "class Network(nn.Module):\n",
    "```\n",
    "\n",
    "Here we're inheriting from `nn.Module`. Combined with `super().__init__()` this creates a class that tracks the architecture and provides a lot of useful methods and attributes. It is mandatory to inherit from `nn.Module` when you're creating a class for your network. The name of the class itself can be anything.\n",
    "\n",
    "```python\n",
    "self.hidden = nn.Linear(784, 256)\n",
    "```\n",
    "\n",
    "This line creates a module for a linear transformation, $x\\mathbf{W} + b$, with 784 inputs and 256 outputs and assigns it to `self.hidden`. The module automatically creates the weight and bias tensors which we'll use in the `forward` method. You can access the weight and bias tensors once the network (`net`) is created with `net.hidden.weight` and `net.hidden.bias`.\n",
    "\n",
    "```python\n",
    "self.output = nn.Linear(256, 10)\n",
    "```\n",
    "\n",
    "Similarly, this creates another linear transformation with 256 inputs and 10 outputs.\n",
    "\n",
    "```python\n",
    "self.sigmoid = nn.Sigmoid()\n",
    "self.softmax = nn.Softmax(dim=1)\n",
    "```\n",
    "\n",
    "Here I defined operations for the sigmoid activation and softmax output. Setting `dim=1` in `nn.Softmax(dim=1)` calculates softmax across the columns.\n",
    "\n",
    "```python\n",
    "def forward(self, x):\n",
    "```\n",
    "\n",
    "PyTorch networks created with `nn.Module` must have a `forward` method defined. It takes in a tensor `x` and passes it through the operations you defined in the `__init__` method.\n",
    "\n",
    "```python\n",
    "x = self.hidden(x)\n",
    "x = self.sigmoid(x)\n",
    "x = self.output(x)\n",
    "x = self.softmax(x)\n",
    "```\n",
    "\n",
    "Here the input tensor `x` is passed through each operation and reassigned to `x`. We can see that the input tensor goes through the hidden layer, then a sigmoid function, then the output layer, and finally the softmax function. It doesn't matter what you name the variables here, as long as the inputs and outputs of the operations match the network architecture you want to build. The order in which you define things in the `__init__` method doesn't matter, but you'll need to sequence the operations correctly in the `forward` method.\n",
    "\n",
    "Now we can create a `Network` object."
   ]
  },
  {
   "cell_type": "code",
   "execution_count": 20,
   "metadata": {},
   "outputs": [
    {
     "data": {
      "text/plain": [
       "Network(\n",
       "  (hidden): Linear(in_features=784, out_features=256, bias=True)\n",
       "  (output): Linear(in_features=256, out_features=10, bias=True)\n",
       "  (sigmoid): Sigmoid()\n",
       "  (softmax): Softmax()\n",
       ")"
      ]
     },
     "execution_count": 20,
     "metadata": {},
     "output_type": "execute_result"
    }
   ],
   "source": [
    "# Create the network and look at it's text representation\n",
    "model = Network()\n",
    "model"
   ]
  },
  {
   "cell_type": "markdown",
   "metadata": {},
   "source": [
    "You can define the network somewhat more concisely and clearly using the `torch.nn.functional` module. This is the most common way you'll see networks defined as many operations are simple element-wise functions. We normally import this module as `F`, `import torch.nn.functional as F`."
   ]
  },
  {
   "cell_type": "code",
   "execution_count": 21,
   "metadata": {},
   "outputs": [],
   "source": [
    "import torch.nn.functional as F\n",
    "\n",
    "class Network(nn.Module):\n",
    "    def __init__(self):\n",
    "        super().__init__()\n",
    "        # Inputs to hidden layer linear transformation\n",
    "        self.hidden = nn.Linear(784, 256)\n",
    "        # Output layer, 10 units - one for each digit\n",
    "        self.output = nn.Linear(256, 10)\n",
    "        \n",
    "    def forward(self, x):\n",
    "        # Hidden layer with sigmoid activation\n",
    "        x = F.sigmoid(self.hidden(x))\n",
    "        # Output layer with softmax activation\n",
    "        x = F.softmax(self.output(x), dim=1)\n",
    "        \n",
    "        return x"
   ]
  },
  {
   "cell_type": "markdown",
   "metadata": {},
   "source": [
    "### Activation functions\n",
    "\n",
    "So far we've only been looking at the sigmoid activation function, but in general any function can be used as an activation function. The only requirement is that for a network to approximate a non-linear function, the activation functions must be non-linear. Here are a few more examples of common activation functions: Tanh (hyperbolic tangent), and ReLU (rectified linear unit).\n",
    "\n",
    "<img src=\"assets/activation.png\" width=700px>\n",
    "\n",
    "In practice, the ReLU function is used almost exclusively as the activation function for hidden layers."
   ]
  },
  {
   "cell_type": "markdown",
   "metadata": {},
   "source": [
    "### Your Turn to Build a Network\n",
    "\n",
    "<img src=\"assets/mlp_mnist.png\" width=600px>\n",
    "\n",
    "> **Exercise:** Create a network with 784 input units, a hidden layer with 128 units and a ReLU activation, then a hidden layer with 64 units and a ReLU activation, and finally an output layer with a softmax activation as shown above. You can use a ReLU activation with the `nn.ReLU` module or `F.relu` function.\n",
    "\n",
    "It's good practice to name your layers by their type of network, for instance 'fc' to represent a fully-connected layer. As you code your solution, use `fc1`, `fc2`, and `fc3` as your layer names."
   ]
  },
  {
   "cell_type": "code",
   "execution_count": 25,
   "metadata": {
    "scrolled": true
   },
   "outputs": [],
   "source": [
    "## Your solution here\n",
    "import torch.nn.functional as F\n",
    "\n",
    "class Network(nn.Module):\n",
    "    def __init__(self):\n",
    "        super().__init__()\n",
    "        # Inputs to hidden layer 1 linear transformation\n",
    "        self.fc1 = nn.Linear(784, 128)\n",
    "        # Inputs to hidden layer 2 linear transformation\n",
    "        self.fc2 = nn.Linear(128, 64)\n",
    "        # Output layer, 10 units - one for each digit\n",
    "        self.fc3   = nn.Linear(64, 10)\n",
    "        \n",
    "    def forward(self, x):\n",
    "        # Hidden layer 1 with sigmoid activation\n",
    "        x = F.sigmoid(self.fc1(x))\n",
    "        # Hidden layer 2 with sigmoid activation\n",
    "        x = F.sigmoid(self.fc2(x))\n",
    "        # Output layer with softmax activation\n",
    "        x = F.softmax(self.fc3(x), dim=1)\n",
    "        \n",
    "        return x\n"
   ]
  },
  {
   "cell_type": "code",
   "execution_count": 27,
   "metadata": {},
   "outputs": [
    {
     "data": {
      "text/plain": [
       "Network(\n",
       "  (fc1): Linear(in_features=784, out_features=128, bias=True)\n",
       "  (fc2): Linear(in_features=128, out_features=64, bias=True)\n",
       "  (fc3): Linear(in_features=64, out_features=10, bias=True)\n",
       ")"
      ]
     },
     "execution_count": 27,
     "metadata": {},
     "output_type": "execute_result"
    }
   ],
   "source": [
    "# Create the network and look at it's text representation\n",
    "model = Network()\n",
    "model"
   ]
  },
  {
   "cell_type": "markdown",
   "metadata": {},
   "source": [
    "### Initializing weights and biases\n",
    "\n",
    "The weights and such are automatically initialized for you, but it's possible to customize how they are initialized. The weights and biases are tensors attached to the layer you defined, you can get them with `model.fc1.weight` for instance."
   ]
  },
  {
   "cell_type": "code",
   "execution_count": 28,
   "metadata": {},
   "outputs": [
    {
     "name": "stdout",
     "output_type": "stream",
     "text": [
      "Parameter containing:\n",
      "tensor([[ 0.0232,  0.0054,  0.0203,  ..., -0.0135, -0.0060, -0.0159],\n",
      "        [ 0.0039,  0.0111, -0.0267,  ..., -0.0097,  0.0234, -0.0162],\n",
      "        [-0.0296, -0.0133,  0.0302,  ...,  0.0228,  0.0181,  0.0345],\n",
      "        ...,\n",
      "        [ 0.0194, -0.0045, -0.0317,  ..., -0.0274, -0.0266,  0.0178],\n",
      "        [ 0.0182, -0.0117,  0.0318,  ...,  0.0283,  0.0255,  0.0154],\n",
      "        [-0.0244, -0.0034,  0.0228,  ..., -0.0294,  0.0319, -0.0254]],\n",
      "       requires_grad=True)\n",
      "Parameter containing:\n",
      "tensor([-0.0031,  0.0212,  0.0217,  0.0078,  0.0235,  0.0055,  0.0044, -0.0274,\n",
      "        -0.0044,  0.0258,  0.0103,  0.0331,  0.0142,  0.0050, -0.0133,  0.0046,\n",
      "         0.0140, -0.0054, -0.0032, -0.0089,  0.0281,  0.0238,  0.0174, -0.0123,\n",
      "        -0.0090, -0.0194, -0.0074,  0.0023,  0.0167,  0.0271,  0.0063, -0.0016,\n",
      "         0.0206, -0.0016,  0.0036, -0.0076,  0.0105, -0.0310, -0.0025, -0.0094,\n",
      "         0.0347, -0.0294, -0.0061,  0.0052,  0.0052,  0.0115,  0.0229, -0.0134,\n",
      "        -0.0010,  0.0006, -0.0315,  0.0100, -0.0288,  0.0176,  0.0343,  0.0254,\n",
      "        -0.0033,  0.0076, -0.0077, -0.0086,  0.0209, -0.0210,  0.0286,  0.0117,\n",
      "        -0.0188,  0.0013, -0.0105, -0.0211,  0.0009,  0.0022, -0.0245,  0.0222,\n",
      "        -0.0050, -0.0263, -0.0247, -0.0289,  0.0260,  0.0025,  0.0036, -0.0316,\n",
      "         0.0287, -0.0115,  0.0257,  0.0206, -0.0044, -0.0181,  0.0273,  0.0284,\n",
      "         0.0059, -0.0242, -0.0130,  0.0023,  0.0158,  0.0281,  0.0183,  0.0060,\n",
      "        -0.0267, -0.0293, -0.0307, -0.0172,  0.0064, -0.0238, -0.0104,  0.0190,\n",
      "        -0.0297, -0.0215, -0.0191,  0.0142,  0.0049,  0.0286, -0.0052,  0.0046,\n",
      "         0.0253,  0.0225,  0.0188,  0.0005, -0.0252, -0.0042,  0.0295, -0.0283,\n",
      "        -0.0333,  0.0196, -0.0281,  0.0223,  0.0329,  0.0058,  0.0244,  0.0130],\n",
      "       requires_grad=True)\n"
     ]
    }
   ],
   "source": [
    "print(model.fc1.weight)\n",
    "print(model.fc1.bias)"
   ]
  },
  {
   "cell_type": "markdown",
   "metadata": {},
   "source": [
    "For custom initialization, we want to modify these tensors in place. These are actually autograd *Variables*, so we need to get back the actual tensors with `model.fc1.weight.data`. Once we have the tensors, we can fill them with zeros (for biases) or random normal values."
   ]
  },
  {
   "cell_type": "code",
   "execution_count": 29,
   "metadata": {},
   "outputs": [
    {
     "data": {
      "text/plain": [
       "tensor([0., 0., 0., 0., 0., 0., 0., 0., 0., 0., 0., 0., 0., 0., 0., 0., 0., 0., 0., 0., 0., 0., 0., 0.,\n",
       "        0., 0., 0., 0., 0., 0., 0., 0., 0., 0., 0., 0., 0., 0., 0., 0., 0., 0., 0., 0., 0., 0., 0., 0.,\n",
       "        0., 0., 0., 0., 0., 0., 0., 0., 0., 0., 0., 0., 0., 0., 0., 0., 0., 0., 0., 0., 0., 0., 0., 0.,\n",
       "        0., 0., 0., 0., 0., 0., 0., 0., 0., 0., 0., 0., 0., 0., 0., 0., 0., 0., 0., 0., 0., 0., 0., 0.,\n",
       "        0., 0., 0., 0., 0., 0., 0., 0., 0., 0., 0., 0., 0., 0., 0., 0., 0., 0., 0., 0., 0., 0., 0., 0.,\n",
       "        0., 0., 0., 0., 0., 0., 0., 0.])"
      ]
     },
     "execution_count": 29,
     "metadata": {},
     "output_type": "execute_result"
    }
   ],
   "source": [
    "# Set biases to all zeros\n",
    "model.fc1.bias.data.fill_(0)"
   ]
  },
  {
   "cell_type": "code",
   "execution_count": 30,
   "metadata": {},
   "outputs": [
    {
     "data": {
      "text/plain": [
       "tensor([[-0.0047,  0.0110,  0.0050,  ..., -0.0029,  0.0007, -0.0139],\n",
       "        [ 0.0142,  0.0118,  0.0018,  ...,  0.0002, -0.0104,  0.0035],\n",
       "        [ 0.0136, -0.0023, -0.0019,  ...,  0.0090, -0.0040,  0.0017],\n",
       "        ...,\n",
       "        [ 0.0142, -0.0065,  0.0077,  ..., -0.0007,  0.0028, -0.0247],\n",
       "        [-0.0034,  0.0136, -0.0174,  ...,  0.0023, -0.0192,  0.0122],\n",
       "        [-0.0028,  0.0027, -0.0104,  ..., -0.0107,  0.0178,  0.0017]])"
      ]
     },
     "execution_count": 30,
     "metadata": {},
     "output_type": "execute_result"
    }
   ],
   "source": [
    "# sample from random normal with standard dev = 0.01\n",
    "model.fc1.weight.data.normal_(std=0.01)"
   ]
  },
  {
   "cell_type": "markdown",
   "metadata": {},
   "source": [
    "### Forward pass\n",
    "\n",
    "Now that we have a network, let's see what happens when we pass in an image."
   ]
  },
  {
   "cell_type": "code",
   "execution_count": 31,
   "metadata": {},
   "outputs": [
    {
     "name": "stderr",
     "output_type": "stream",
     "text": [
      "/anaconda3/lib/python3.7/site-packages/torch/nn/functional.py:1332: UserWarning: nn.functional.sigmoid is deprecated. Use torch.sigmoid instead.\n",
      "  warnings.warn(\"nn.functional.sigmoid is deprecated. Use torch.sigmoid instead.\")\n"
     ]
    },
    {
     "data": {
      "image/png": "[encoded data removed]",
      "text/plain": [
       "<Figure size 432x648 with 2 Axes>"
      ]
     },
     "metadata": {
      "image/png": {
       "height": 226,
       "width": 423
      },
      "needs_background": "light"
     },
     "output_type": "display_data"
    }
   ],
   "source": [
    "# Grab some data \n",
    "dataiter = iter(trainloader)\n",
    "images, labels = dataiter.next()\n",
    "\n",
    "# Resize images into a 1D vector, new shape is (batch size, color channels, image pixels) \n",
    "images.resize_(64, 1, 784)\n",
    "# or images.resize_(images.shape[0], 1, 784) to automatically get batch size\n",
    "\n",
    "# Forward pass through the network\n",
    "img_idx = 0\n",
    "ps = model.forward(images[img_idx,:])\n",
    "\n",
    "img = images[img_idx]\n",
    "helper.view_classify(img.view(1, 28, 28), ps)"
   ]
  },
  {
   "cell_type": "markdown",
   "metadata": {},
   "source": [
    "As you can see above, our network has basically no idea what this digit is. It's because we haven't trained it yet, all the weights are random!\n",
    "\n",
    "### Using `nn.Sequential`\n",
    "\n",
    "PyTorch provides a convenient way to build networks like this where a tensor is passed sequentially through operations, `nn.Sequential` ([documentation](https://pytorch.org/docs/master/nn.html#torch.nn.Sequential)). Using this to build the equivalent network:"
   ]
  },
  {
   "cell_type": "code",
   "execution_count": 32,
   "metadata": {},
   "outputs": [
    {
     "name": "stdout",
     "output_type": "stream",
     "text": [
      "Sequential(\n",
      "  (0): Linear(in_features=784, out_features=128, bias=True)\n",
      "  (1): ReLU()\n",
      "  (2): Linear(in_features=128, out_features=64, bias=True)\n",
      "  (3): ReLU()\n",
      "  (4): Linear(in_features=64, out_features=10, bias=True)\n",
      "  (5): Softmax()\n",
      ")\n"
     ]
    },
    {
     "data": {
      "image/png": "[encoded data removed]",
      "text/plain": [
       "<Figure size 432x648 with 2 Axes>"
      ]
     },
     "metadata": {
      "image/png": {
       "height": 226,
       "width": 423
      },
      "needs_background": "light"
     },
     "output_type": "display_data"
    }
   ],
   "source": [
    "# Hyperparameters for our network\n",
    "input_size = 784\n",
    "hidden_sizes = [128, 64]\n",
    "output_size = 10\n",
    "\n",
    "# Build a feed-forward network\n",
    "model = nn.Sequential(nn.Linear(input_size, hidden_sizes[0]),\n",
    "                      nn.ReLU(),\n",
    "                      nn.Linear(hidden_sizes[0], hidden_sizes[1]),\n",
    "                      nn.ReLU(),\n",
    "                      nn.Linear(hidden_sizes[1], output_size),\n",
    "                      nn.Softmax(dim=1))\n",
    "print(model)\n",
    "\n",
    "# Forward pass through the network and display output\n",
    "images, labels = next(iter(trainloader))\n",
    "images.resize_(images.shape[0], 1, 784)\n",
    "ps = model.forward(images[0,:])\n",
    "helper.view_classify(images[0].view(1, 28, 28), ps)"
   ]
  },
  {
   "cell_type": "markdown",
   "metadata": {},
   "source": [
    "Here our model is the same as before: 784 input units, a hidden layer with 128 units, ReLU activation, 64 unit hidden layer, another ReLU, then the output layer with 10 units, and the softmax output.\n",
    "\n",
    "The operations are available by passing in the appropriate index. For example, if you want to get first Linear operation and look at the weights, you'd use `model[0]`."
   ]
  },
  {
   "cell_type": "code",
   "execution_count": 33,
   "metadata": {},
   "outputs": [
    {
     "name": "stdout",
     "output_type": "stream",
     "text": [
      "Linear(in_features=784, out_features=128, bias=True)\n"
     ]
    },
    {
     "data": {
      "text/plain": [
       "Parameter containing:\n",
       "tensor([[-0.0010,  0.0008,  0.0291,  ...,  0.0321, -0.0194, -0.0066],\n",
       "        [ 0.0136,  0.0181, -0.0102,  ..., -0.0154,  0.0193, -0.0302],\n",
       "        [ 0.0349, -0.0332, -0.0265,  ..., -0.0033, -0.0131, -0.0344],\n",
       "        ...,\n",
       "        [ 0.0013,  0.0297, -0.0068,  ..., -0.0317, -0.0206,  0.0286],\n",
       "        [ 0.0154,  0.0337,  0.0174,  ...,  0.0313, -0.0267,  0.0014],\n",
       "        [-0.0039, -0.0224,  0.0161,  ..., -0.0345,  0.0224,  0.0283]],\n",
       "       requires_grad=True)"
      ]
     },
     "execution_count": 33,
     "metadata": {},
     "output_type": "execute_result"
    }
   ],
   "source": [
    "print(model[0])\n",
    "model[0].weight"
   ]
  },
  {
   "cell_type": "markdown",
   "metadata": {},
   "source": [
    "You can also pass in an `OrderedDict` to name the individual layers and operations, instead of using incremental integers. Note that dictionary keys must be unique, so _each operation must have a different name_."
   ]
  },
  {
   "cell_type": "code",
   "execution_count": 34,
   "metadata": {},
   "outputs": [
    {
     "data": {
      "text/plain": [
       "Sequential(\n",
       "  (fc1): Linear(in_features=784, out_features=128, bias=True)\n",
       "  (relu1): ReLU()\n",
       "  (fc2): Linear(in_features=128, out_features=64, bias=True)\n",
       "  (relu2): ReLU()\n",
       "  (output): Linear(in_features=64, out_features=10, bias=True)\n",
       "  (softmax): Softmax()\n",
       ")"
      ]
     },
     "execution_count": 34,
     "metadata": {},
     "output_type": "execute_result"
    }
   ],
   "source": [
    "from collections import OrderedDict\n",
    "model = nn.Sequential(OrderedDict([\n",
    "                      ('fc1', nn.Linear(input_size, hidden_sizes[0])),\n",
    "                      ('relu1', nn.ReLU()),\n",
    "                      ('fc2', nn.Linear(hidden_sizes[0], hidden_sizes[1])),\n",
    "                      ('relu2', nn.ReLU()),\n",
    "                      ('output', nn.Linear(hidden_sizes[1], output_size)),\n",
    "                      ('softmax', nn.Softmax(dim=1))]))\n",
    "model"
   ]
  },
  {
   "cell_type": "markdown",
   "metadata": {},
   "source": [
    "Now you can access layers either by integer or the name"
   ]
  },
  {
   "cell_type": "code",
   "execution_count": 35,
   "metadata": {},
   "outputs": [
    {
     "name": "stdout",
     "output_type": "stream",
     "text": [
      "Linear(in_features=784, out_features=128, bias=True)\n",
      "Linear(in_features=784, out_features=128, bias=True)\n"
     ]
    }
   ],
   "source": [
    "print(model[0])\n",
    "print(model.fc1)"
   ]
  },
  {
   "cell_type": "markdown",
   "metadata": {},
   "source": [
    "In the next notebook, we'll see how we can train a neural network to accuractly predict the numbers appearing in the MNIST images."
   ]
  }
 ],
 "metadata": {
  "kernelspec": {
   "display_name": "Python 3",
   "language": "python",
   "name": "python3"
  },
  "language_info": {
   "codemirror_mode": {
    "name": "ipython",
    "version": 3
   },
   "file_extension": ".py",
   "mimetype": "text/x-python",
   "name": "python",
   "nbconvert_exporter": "python",
   "pygments_lexer": "ipython3",
   "version": "3.7.1"
  }
 },
 "nbformat": 4,
 "nbformat_minor": 2
}
